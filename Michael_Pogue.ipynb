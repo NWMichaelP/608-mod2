{
 "cells": [
  {
   "cell_type": "code",
   "execution_count": 19,
   "id": "286aea5c-ec57-4de2-a187-c91d776d47cd",
   "metadata": {},
   "outputs": [
    {
     "name": "stdout",
     "output_type": "stream",
     "text": [
      "The count of our data is  6 , the sum of our data is  475  and the mean of our data is:  79.16666666666667\n"
     ]
    }
   ],
   "source": [
    "data = [47, 95, 88, 73, 88, 84]\n",
    "#Imported data.\n",
    "\n",
    "print(\n",
    "    \"The count of our data is \"\n",
    "    , len(data)\n",
    "    , \", the sum of our data is \"\n",
    "    , sum(data)\n",
    "    , \" and the mean of our data is: \"\n",
    "    , sum(data)/len(data)\n",
    ")\n",
    "#Count, sum, and mean data calculated."
   ]
  },
  {
   "cell_type": "code",
   "execution_count": 20,
   "id": "79f65a30-f656-473a-9a24-40e3709f671f",
   "metadata": {},
   "outputs": [
    {
     "name": "stdout",
     "output_type": "stream",
     "text": [
      "Mean: 79.16666666666667 Median: 86.0 Mode: 88\n"
     ]
    }
   ],
   "source": [
    "data = [47, 95, 88, 73, 88, 84]\n",
    "#Imported data.\n",
    "import statistics\n",
    "#Launching the Python Standard Library’s statistics module.\n",
    "\n",
    "print(\n",
    "    \"Mean:\"\n",
    "    , statistics.mean(data)\n",
    "    , \"Median:\"\n",
    "    , statistics.median(data)\n",
    "    , \"Mode:\"\n",
    "    , statistics.mode(data)\n",
    ")\n",
    "\n",
    "#Statistics module used to calculate mean, median, and mode."
   ]
  },
  {
   "cell_type": "code",
   "execution_count": 21,
   "id": "b1a7fe49-5c95-4cf7-8d01-f76b91980004",
   "metadata": {},
   "outputs": [
    {
     "name": "stdout",
     "output_type": "stream",
     "text": [
      "Count:  21 Sum:  391760 Mean:  18655.238095238095 Median: 19035 Mode: 483\n"
     ]
    }
   ],
   "source": [
    "data = [483,2525,5096,6848,7452,9495,12066,13817,14422,16465,19035,20787,21392,23434,26005,27757,28361,31425,33195,34965,36735]\n",
    "#Imported data from a savings account of mine.\n",
    "\n",
    "import statistics\n",
    "#Launching the Python Standard Library’s statistics module.  \n",
    "\n",
    "print(\n",
    "    \"Count: \"\n",
    "    , len(data)\n",
    "    , \"Sum: \"\n",
    "    , sum(data)\n",
    "    , \"Mean: \"\n",
    "    , statistics.mean(data)\n",
    "    , \"Median:\"\n",
    "    , statistics.median(data)\n",
    "    , \"Mode:\"\n",
    "    , statistics.mode(data)\n",
    ")\n",
    "#Basic calculations plus staitistics module calculations."
   ]
  },
  {
   "cell_type": "code",
   "execution_count": null,
   "id": "517eacf3-4d3a-4b40-bb53-781f20a26409",
   "metadata": {},
   "outputs": [],
   "source": [
    "Michael Pogue"
   ]
  }
 ],
 "metadata": {
  "kernelspec": {
   "display_name": "Python 3 (ipykernel)",
   "language": "python",
   "name": "python3"
  },
  "language_info": {
   "codemirror_mode": {
    "name": "ipython",
    "version": 3
   },
   "file_extension": ".py",
   "mimetype": "text/x-python",
   "name": "python",
   "nbconvert_exporter": "python",
   "pygments_lexer": "ipython3",
   "version": "3.9.12"
  }
 },
 "nbformat": 4,
 "nbformat_minor": 5
}
