{
 "cells": [
  {
   "cell_type": "code",
   "execution_count": 1,
   "id": "5ea507ae-fa03-4f08-9123-6cf196141087",
   "metadata": {},
   "outputs": [
    {
     "name": "stdout",
     "output_type": "stream",
     "text": [
      "Count:  500 Sum:  124750 Mean:  249.5 Median: 249.5 Mode: 0\n"
     ]
    }
   ],
   "source": [
    "data = range(500)\n",
    "#Generating set data.\n",
    "\n",
    "import statistics\n",
    "#Launching the Python Standard Library's statistiacs module.\n",
    "\n",
    "print(\n",
    "    \"Count: \"\n",
    "    , len(data)\n",
    "    , \"Sum: \"\n",
    "    , sum(data)\n",
    "    , \"Mean: \"\n",
    "    , round(statistics.mean(data),2)\n",
    "    , \"Median:\"\n",
    "    , statistics.median(data)\n",
    "    , \"Mode:\"\n",
    "    , statistics.mode(data)\n",
    ")\n",
    "#Basic calculations plus staitistics module calculations."
   ]
  },
  {
   "cell_type": "code",
   "execution_count": 15,
   "id": "8f801c13-76ea-40e7-95a4-a3f626232839",
   "metadata": {},
   "outputs": [
    {
     "name": "stdout",
     "output_type": "stream",
     "text": [
      "Count:  500 Sum:  122552 Mean:  245.1 Median: 249.0 Mode: 212\n"
     ]
    }
   ],
   "source": [
    "import random\n",
    "#Launching the Python random module.\n",
    "\n",
    "data = [random.randrange(500) for x in range(0, 500)]\n",
    "#Generating random data.\n",
    "\n",
    "import statistics\n",
    "#Launching the Python Standard Library's statistiacs module.\n",
    "\n",
    "print(\n",
    "    \"Count: \"\n",
    "    , len(data)\n",
    "    , \"Sum: \"\n",
    "    , sum(data)\n",
    "    , \"Mean: \"\n",
    "    , round(statistics.mean(data),2)\n",
    "    , \"Median:\"\n",
    "    , statistics.median(data)\n",
    "    , \"Mode:\"\n",
    "    , statistics.mode(data)\n",
    ")\n",
    "#Basic calculations plus staitistics module calculations."
   ]
  },
  {
   "cell_type": "code",
   "execution_count": null,
   "id": "2eeb2886-916b-4775-8524-e321a3f3a3ee",
   "metadata": {},
   "outputs": [],
   "source": [
    "Michael Pogue"
   ]
  }
 ],
 "metadata": {
  "kernelspec": {
   "display_name": "Python 3 (ipykernel)",
   "language": "python",
   "name": "python3"
  },
  "language_info": {
   "codemirror_mode": {
    "name": "ipython",
    "version": 3
   },
   "file_extension": ".py",
   "mimetype": "text/x-python",
   "name": "python",
   "nbconvert_exporter": "python",
   "pygments_lexer": "ipython3",
   "version": "3.9.12"
  }
 },
 "nbformat": 4,
 "nbformat_minor": 5
}
